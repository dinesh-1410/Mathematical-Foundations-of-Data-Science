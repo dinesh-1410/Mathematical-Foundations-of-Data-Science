{
  "nbformat": 4,
  "nbformat_minor": 0,
  "metadata": {
    "colab": {
      "provenance": [],
      "gpuType": "T4",
      "collapsed_sections": [
        "huqubnFNxzGv",
        "03gzX9sJyO2h",
        "iazwPPzbyaT6"
      ]
    },
    "kernelspec": {
      "name": "python3",
      "display_name": "Python 3"
    },
    "language_info": {
      "name": "python"
    },
    "accelerator": "GPU"
  },
  "cells": [
    {
      "cell_type": "markdown",
      "source": [
        "# **IMPORTING NECESSARY LIBRARIES**"
      ],
      "metadata": {
        "id": "-bHkmNM-xuCz"
      }
    },
    {
      "cell_type": "code",
      "source": [
        "import numpy as np\n",
        "import pandas as pd\n",
        "\n",
        "# Finxing a random seed value for reproducibility\n",
        "np.random.seed(0)"
      ],
      "metadata": {
        "id": "dYg5fusQ625F"
      },
      "execution_count": 1,
      "outputs": []
    },
    {
      "cell_type": "markdown",
      "source": [
        "# **LINEAR REGRESSION MODEL**"
      ],
      "metadata": {
        "id": "huqubnFNxzGv"
      }
    },
    {
      "cell_type": "code",
      "execution_count": 38,
      "metadata": {
        "id": "QKK2qJb_6Zmv"
      },
      "outputs": [],
      "source": [
        "class LinearRegression:\n",
        "    def __init__(self, method='OLS', learning_rate=0.01, iterations=100):\n",
        "        self.method = method\n",
        "        self.learning_rate = learning_rate\n",
        "        self.iterations = iterations\n",
        "        self.beta = None\n",
        "        self.cost_history = None\n",
        "        self.beta_history = None\n",
        "\n",
        "    def compute_cost(self, X, y, beta):\n",
        "        n = len(y)\n",
        "        predictions = X.dot(beta)\n",
        "        residuals = np.square(predictions - y)\n",
        "        if self.method == 'OLS':\n",
        "            cost = (1/(2*n)) * np.sum(residuals)\n",
        "        elif self.method == 'LMS':\n",
        "            cost = np.median(residuals)\n",
        "        elif self.method == 'LTS':\n",
        "            residuals_sorted = np.sort(residuals, axis=0)\n",
        "            q = int((n / 2) + 1)\n",
        "            cost = np.sum(residuals_sorted[:q])\n",
        "        return cost\n",
        "\n",
        "    def compute_gradient(self, X, y, beta):\n",
        "        n = len(y)\n",
        "        prediction = np.dot(X, beta)\n",
        "        residuals = prediction - y\n",
        "        if self.method == 'OLS':\n",
        "            gradients = (1/n) * X.T.dot(residuals)\n",
        "        elif self.method == 'LMS':\n",
        "            med = np.median(residuals)\n",
        "            gradients = X.T.dot(np.sign(residuals - med))\n",
        "        elif self.method == 'LTS':\n",
        "            residuals_sorted = np.sort(residuals, axis=0)\n",
        "            q = int((n / 2) + 1)\n",
        "            gradients = X.T.dot(np.sign(residuals - residuals_sorted[q]))\n",
        "        return gradients\n",
        "\n",
        "    def gradient_descent(self, X, y, beta):\n",
        "        n = len(y)\n",
        "        self.cost_history = np.zeros(self.iterations)\n",
        "        self.beta_history = np.zeros((self.iterations, len(beta)))\n",
        "        for it in range(self.iterations):\n",
        "            gradients = self.compute_gradient(X, y, beta)\n",
        "            beta = beta - self.learning_rate*gradients\n",
        "            self.beta_history[it,:] = beta.T\n",
        "            self.cost_history[it]  = self.compute_cost(X, y, beta)\n",
        "        return beta\n",
        "\n",
        "    def fit(self, X, y):\n",
        "        self.beta = np.random.randn(X.shape[1],1)\n",
        "        self.beta = self.gradient_descent(X, y, self.beta)"
      ]
    },
    {
      "cell_type": "markdown",
      "source": [
        "# **TESTTING ON SYNTHETIC DATA**"
      ],
      "metadata": {
        "id": "03gzX9sJyO2h"
      }
    },
    {
      "cell_type": "code",
      "source": [
        "def generate_data(N, beta_true):\n",
        "    X = np.random.normal(0, 1, (N, len(beta_true)))\n",
        "    noise = np.random.normal(0, 1, (N, 1))\n",
        "    y = np.dot(X, beta_true) + noise\n",
        "    return X, y\n",
        "\n",
        "def compute_metrics(beta_est, beta_true, R):\n",
        "    MSE = np.mean((beta_est - beta_true.flatten())**2, axis=0)\n",
        "    RB = np.median(beta_est, axis=0) - beta_true.flatten()\n",
        "    MAD = np.median(np.abs(beta_est - beta_true.flatten()), axis=0)\n",
        "    return MSE, RB, MAD\n",
        "\n",
        "N_values = [20, 100]\n",
        "R = 200\n",
        "beta_true = np.array([[3], [5]])\n",
        "beta_results = []\n",
        "metric_results = []\n",
        "\n",
        "for N in N_values:\n",
        "    for method in ['OLS', 'LMS', 'LTS']:\n",
        "        beta_est = np.zeros((R, len(beta_true)))\n",
        "        final_costs = np.zeros(R)\n",
        "        for r in range(R):\n",
        "            X, y = generate_data(N, beta_true)\n",
        "            lr = LinearRegression(method=method)\n",
        "            lr.fit(X, y)\n",
        "            beta_est[r, :] = lr.beta.ravel()\n",
        "        beta_results.append([N, method, np.mean(beta_est[:,0]), np.mean(beta_est[:,1])])\n",
        "        MSE, RB, MAD = compute_metrics(beta_est, beta_true, R)\n",
        "        metric_results.append([N, method, MSE[0], MSE[1], RB[0], RB[1], MAD[0], MAD[1]])\n",
        "\n",
        "# Create DataFrames for beta and cost results and metric results\n",
        "beta_cost_df = pd.DataFrame(beta_results, columns=['N', 'Method', 'Beta0', 'Beta1'])\n",
        "metric_df = pd.DataFrame(metric_results, columns=['N', 'Method', 'MSE Beta0', 'MSE Beta1', 'RB Beta0', 'RB Beta1', 'MAD Beta0', 'MAD Beta1'])\n",
        "\n",
        "# Print beta table\n",
        "print(\"Beta Table:\")\n",
        "print(beta_cost_df.to_string(index=False))\n",
        "\n",
        "# Print metric table\n",
        "print(\"\\nMetric Table:\")\n",
        "print(metric_df.to_string(index=False))"
      ],
      "metadata": {
        "colab": {
          "base_uri": "https://localhost:8080/"
        },
        "id": "Qjaa93nBx49D",
        "outputId": "d6a870e1-2e98-4b8a-cc6c-329ef341d172"
      },
      "execution_count": 39,
      "outputs": [
        {
          "output_type": "stream",
          "name": "stdout",
          "text": [
            "Beta Table:\n",
            "  N Method    Beta0    Beta1\n",
            " 20    OLS 1.824189 3.006594\n",
            " 20    LMS 2.952499 4.963279\n",
            " 20    LTS 3.014799 4.973416\n",
            "100    OLS 1.906855 3.157683\n",
            "100    LMS 2.983220 5.005813\n",
            "100    LTS 2.987761 5.014668\n",
            "\n",
            "Metric Table:\n",
            "  N Method  MSE Beta0  MSE Beta1  RB Beta0  RB Beta1  MAD Beta0  MAD Beta1\n",
            " 20    OLS   1.870999   4.511711 -1.148117 -1.940122   1.148117   1.940122\n",
            " 20    LMS   0.105870   0.107388 -0.022718 -0.061302   0.194628   0.205218\n",
            " 20    LTS   0.085020   0.083951  0.025258 -0.019936   0.211906   0.187339\n",
            "100    OLS   1.436542   3.623945 -1.036028 -1.803773   1.036028   1.803773\n",
            "100    LMS   0.015706   0.019580  0.002052 -0.002674   0.085098   0.097420\n",
            "100    LTS   0.019164   0.018548  0.014142  0.017511   0.086297   0.101667\n"
          ]
        }
      ]
    },
    {
      "cell_type": "markdown",
      "source": [
        "# **PREPROCESSING THE REAL DATASET - MEDICAL_INSURANCE.CSV**"
      ],
      "metadata": {
        "id": "iazwPPzbyaT6"
      }
    },
    {
      "cell_type": "markdown",
      "source": [
        "Changing Categorical Variables into Numerical Variables.\n",
        "In the excel sheet,\n",
        "\n",
        "* For 'sex' variable - I have replaced 'male' with '0' and 'female' with '1'.  \n",
        "* For 'smoker' Variable - I have replaced 'yes' with '1' and 'no' with '0'.\n",
        "* For 'region' Variable - I have replaced 'northeast' with '1' , 'northwest' with '2' , 'southeast' with '3' and 'southwest' with '4'."
      ],
      "metadata": {
        "id": "JEkJp-ChA8z7"
      }
    },
    {
      "cell_type": "code",
      "source": [
        "# Creating a pandas Dataframe for the given Dataset\n",
        "df = pd.read_csv('medical_insurance.csv')\n",
        "df"
      ],
      "metadata": {
        "colab": {
          "base_uri": "https://localhost:8080/",
          "height": 423
        },
        "id": "SeMnW0fT6guF",
        "outputId": "03b75512-1f05-419f-983c-5d2399f74d11"
      },
      "execution_count": 58,
      "outputs": [
        {
          "output_type": "execute_result",
          "data": {
            "text/plain": [
              "      age  sex     bmi  children  smoker  region      charges\n",
              "0      19    1  27.900         0       1       4  16884.92400\n",
              "1      18    0  33.770         1       0       3   1725.55230\n",
              "2      28    0  33.000         3       0       3   4449.46200\n",
              "3      33    0  22.705         0       0       2  21984.47061\n",
              "4      32    0  28.880         0       0       2   3866.85520\n",
              "...   ...  ...     ...       ...     ...     ...          ...\n",
              "2767   47    1  45.320         1       0       3   8569.86180\n",
              "2768   21    1  34.600         0       0       4   2020.17700\n",
              "2769   19    0  26.030         1       1       2  16450.89470\n",
              "2770   23    0  18.715         0       0       2  21595.38229\n",
              "2771   54    0  31.600         0       0       4   9850.43200\n",
              "\n",
              "[2772 rows x 7 columns]"
            ],
            "text/html": [
              "\n",
              "  <div id=\"df-f0f4bf21-5838-4b26-8b27-6fdf9f706f39\" class=\"colab-df-container\">\n",
              "    <div>\n",
              "<style scoped>\n",
              "    .dataframe tbody tr th:only-of-type {\n",
              "        vertical-align: middle;\n",
              "    }\n",
              "\n",
              "    .dataframe tbody tr th {\n",
              "        vertical-align: top;\n",
              "    }\n",
              "\n",
              "    .dataframe thead th {\n",
              "        text-align: right;\n",
              "    }\n",
              "</style>\n",
              "<table border=\"1\" class=\"dataframe\">\n",
              "  <thead>\n",
              "    <tr style=\"text-align: right;\">\n",
              "      <th></th>\n",
              "      <th>age</th>\n",
              "      <th>sex</th>\n",
              "      <th>bmi</th>\n",
              "      <th>children</th>\n",
              "      <th>smoker</th>\n",
              "      <th>region</th>\n",
              "      <th>charges</th>\n",
              "    </tr>\n",
              "  </thead>\n",
              "  <tbody>\n",
              "    <tr>\n",
              "      <th>0</th>\n",
              "      <td>19</td>\n",
              "      <td>1</td>\n",
              "      <td>27.900</td>\n",
              "      <td>0</td>\n",
              "      <td>1</td>\n",
              "      <td>4</td>\n",
              "      <td>16884.92400</td>\n",
              "    </tr>\n",
              "    <tr>\n",
              "      <th>1</th>\n",
              "      <td>18</td>\n",
              "      <td>0</td>\n",
              "      <td>33.770</td>\n",
              "      <td>1</td>\n",
              "      <td>0</td>\n",
              "      <td>3</td>\n",
              "      <td>1725.55230</td>\n",
              "    </tr>\n",
              "    <tr>\n",
              "      <th>2</th>\n",
              "      <td>28</td>\n",
              "      <td>0</td>\n",
              "      <td>33.000</td>\n",
              "      <td>3</td>\n",
              "      <td>0</td>\n",
              "      <td>3</td>\n",
              "      <td>4449.46200</td>\n",
              "    </tr>\n",
              "    <tr>\n",
              "      <th>3</th>\n",
              "      <td>33</td>\n",
              "      <td>0</td>\n",
              "      <td>22.705</td>\n",
              "      <td>0</td>\n",
              "      <td>0</td>\n",
              "      <td>2</td>\n",
              "      <td>21984.47061</td>\n",
              "    </tr>\n",
              "    <tr>\n",
              "      <th>4</th>\n",
              "      <td>32</td>\n",
              "      <td>0</td>\n",
              "      <td>28.880</td>\n",
              "      <td>0</td>\n",
              "      <td>0</td>\n",
              "      <td>2</td>\n",
              "      <td>3866.85520</td>\n",
              "    </tr>\n",
              "    <tr>\n",
              "      <th>...</th>\n",
              "      <td>...</td>\n",
              "      <td>...</td>\n",
              "      <td>...</td>\n",
              "      <td>...</td>\n",
              "      <td>...</td>\n",
              "      <td>...</td>\n",
              "      <td>...</td>\n",
              "    </tr>\n",
              "    <tr>\n",
              "      <th>2767</th>\n",
              "      <td>47</td>\n",
              "      <td>1</td>\n",
              "      <td>45.320</td>\n",
              "      <td>1</td>\n",
              "      <td>0</td>\n",
              "      <td>3</td>\n",
              "      <td>8569.86180</td>\n",
              "    </tr>\n",
              "    <tr>\n",
              "      <th>2768</th>\n",
              "      <td>21</td>\n",
              "      <td>1</td>\n",
              "      <td>34.600</td>\n",
              "      <td>0</td>\n",
              "      <td>0</td>\n",
              "      <td>4</td>\n",
              "      <td>2020.17700</td>\n",
              "    </tr>\n",
              "    <tr>\n",
              "      <th>2769</th>\n",
              "      <td>19</td>\n",
              "      <td>0</td>\n",
              "      <td>26.030</td>\n",
              "      <td>1</td>\n",
              "      <td>1</td>\n",
              "      <td>2</td>\n",
              "      <td>16450.89470</td>\n",
              "    </tr>\n",
              "    <tr>\n",
              "      <th>2770</th>\n",
              "      <td>23</td>\n",
              "      <td>0</td>\n",
              "      <td>18.715</td>\n",
              "      <td>0</td>\n",
              "      <td>0</td>\n",
              "      <td>2</td>\n",
              "      <td>21595.38229</td>\n",
              "    </tr>\n",
              "    <tr>\n",
              "      <th>2771</th>\n",
              "      <td>54</td>\n",
              "      <td>0</td>\n",
              "      <td>31.600</td>\n",
              "      <td>0</td>\n",
              "      <td>0</td>\n",
              "      <td>4</td>\n",
              "      <td>9850.43200</td>\n",
              "    </tr>\n",
              "  </tbody>\n",
              "</table>\n",
              "<p>2772 rows × 7 columns</p>\n",
              "</div>\n",
              "    <div class=\"colab-df-buttons\">\n",
              "\n",
              "  <div class=\"colab-df-container\">\n",
              "    <button class=\"colab-df-convert\" onclick=\"convertToInteractive('df-f0f4bf21-5838-4b26-8b27-6fdf9f706f39')\"\n",
              "            title=\"Convert this dataframe to an interactive table.\"\n",
              "            style=\"display:none;\">\n",
              "\n",
              "  <svg xmlns=\"http://www.w3.org/2000/svg\" height=\"24px\" viewBox=\"0 -960 960 960\">\n",
              "    <path d=\"M120-120v-720h720v720H120Zm60-500h600v-160H180v160Zm220 220h160v-160H400v160Zm0 220h160v-160H400v160ZM180-400h160v-160H180v160Zm440 0h160v-160H620v160ZM180-180h160v-160H180v160Zm440 0h160v-160H620v160Z\"/>\n",
              "  </svg>\n",
              "    </button>\n",
              "\n",
              "  <style>\n",
              "    .colab-df-container {\n",
              "      display:flex;\n",
              "      gap: 12px;\n",
              "    }\n",
              "\n",
              "    .colab-df-convert {\n",
              "      background-color: #E8F0FE;\n",
              "      border: none;\n",
              "      border-radius: 50%;\n",
              "      cursor: pointer;\n",
              "      display: none;\n",
              "      fill: #1967D2;\n",
              "      height: 32px;\n",
              "      padding: 0 0 0 0;\n",
              "      width: 32px;\n",
              "    }\n",
              "\n",
              "    .colab-df-convert:hover {\n",
              "      background-color: #E2EBFA;\n",
              "      box-shadow: 0px 1px 2px rgba(60, 64, 67, 0.3), 0px 1px 3px 1px rgba(60, 64, 67, 0.15);\n",
              "      fill: #174EA6;\n",
              "    }\n",
              "\n",
              "    .colab-df-buttons div {\n",
              "      margin-bottom: 4px;\n",
              "    }\n",
              "\n",
              "    [theme=dark] .colab-df-convert {\n",
              "      background-color: #3B4455;\n",
              "      fill: #D2E3FC;\n",
              "    }\n",
              "\n",
              "    [theme=dark] .colab-df-convert:hover {\n",
              "      background-color: #434B5C;\n",
              "      box-shadow: 0px 1px 3px 1px rgba(0, 0, 0, 0.15);\n",
              "      filter: drop-shadow(0px 1px 2px rgba(0, 0, 0, 0.3));\n",
              "      fill: #FFFFFF;\n",
              "    }\n",
              "  </style>\n",
              "\n",
              "    <script>\n",
              "      const buttonEl =\n",
              "        document.querySelector('#df-f0f4bf21-5838-4b26-8b27-6fdf9f706f39 button.colab-df-convert');\n",
              "      buttonEl.style.display =\n",
              "        google.colab.kernel.accessAllowed ? 'block' : 'none';\n",
              "\n",
              "      async function convertToInteractive(key) {\n",
              "        const element = document.querySelector('#df-f0f4bf21-5838-4b26-8b27-6fdf9f706f39');\n",
              "        const dataTable =\n",
              "          await google.colab.kernel.invokeFunction('convertToInteractive',\n",
              "                                                    [key], {});\n",
              "        if (!dataTable) return;\n",
              "\n",
              "        const docLinkHtml = 'Like what you see? Visit the ' +\n",
              "          '<a target=\"_blank\" href=https://colab.research.google.com/notebooks/data_table.ipynb>data table notebook</a>'\n",
              "          + ' to learn more about interactive tables.';\n",
              "        element.innerHTML = '';\n",
              "        dataTable['output_type'] = 'display_data';\n",
              "        await google.colab.output.renderOutput(dataTable, element);\n",
              "        const docLink = document.createElement('div');\n",
              "        docLink.innerHTML = docLinkHtml;\n",
              "        element.appendChild(docLink);\n",
              "      }\n",
              "    </script>\n",
              "  </div>\n",
              "\n",
              "\n",
              "<div id=\"df-a5193f00-1e7a-4776-9112-aa9417534265\">\n",
              "  <button class=\"colab-df-quickchart\" onclick=\"quickchart('df-a5193f00-1e7a-4776-9112-aa9417534265')\"\n",
              "            title=\"Suggest charts\"\n",
              "            style=\"display:none;\">\n",
              "\n",
              "<svg xmlns=\"http://www.w3.org/2000/svg\" height=\"24px\"viewBox=\"0 0 24 24\"\n",
              "     width=\"24px\">\n",
              "    <g>\n",
              "        <path d=\"M19 3H5c-1.1 0-2 .9-2 2v14c0 1.1.9 2 2 2h14c1.1 0 2-.9 2-2V5c0-1.1-.9-2-2-2zM9 17H7v-7h2v7zm4 0h-2V7h2v10zm4 0h-2v-4h2v4z\"/>\n",
              "    </g>\n",
              "</svg>\n",
              "  </button>\n",
              "\n",
              "<style>\n",
              "  .colab-df-quickchart {\n",
              "      --bg-color: #E8F0FE;\n",
              "      --fill-color: #1967D2;\n",
              "      --hover-bg-color: #E2EBFA;\n",
              "      --hover-fill-color: #174EA6;\n",
              "      --disabled-fill-color: #AAA;\n",
              "      --disabled-bg-color: #DDD;\n",
              "  }\n",
              "\n",
              "  [theme=dark] .colab-df-quickchart {\n",
              "      --bg-color: #3B4455;\n",
              "      --fill-color: #D2E3FC;\n",
              "      --hover-bg-color: #434B5C;\n",
              "      --hover-fill-color: #FFFFFF;\n",
              "      --disabled-bg-color: #3B4455;\n",
              "      --disabled-fill-color: #666;\n",
              "  }\n",
              "\n",
              "  .colab-df-quickchart {\n",
              "    background-color: var(--bg-color);\n",
              "    border: none;\n",
              "    border-radius: 50%;\n",
              "    cursor: pointer;\n",
              "    display: none;\n",
              "    fill: var(--fill-color);\n",
              "    height: 32px;\n",
              "    padding: 0;\n",
              "    width: 32px;\n",
              "  }\n",
              "\n",
              "  .colab-df-quickchart:hover {\n",
              "    background-color: var(--hover-bg-color);\n",
              "    box-shadow: 0 1px 2px rgba(60, 64, 67, 0.3), 0 1px 3px 1px rgba(60, 64, 67, 0.15);\n",
              "    fill: var(--button-hover-fill-color);\n",
              "  }\n",
              "\n",
              "  .colab-df-quickchart-complete:disabled,\n",
              "  .colab-df-quickchart-complete:disabled:hover {\n",
              "    background-color: var(--disabled-bg-color);\n",
              "    fill: var(--disabled-fill-color);\n",
              "    box-shadow: none;\n",
              "  }\n",
              "\n",
              "  .colab-df-spinner {\n",
              "    border: 2px solid var(--fill-color);\n",
              "    border-color: transparent;\n",
              "    border-bottom-color: var(--fill-color);\n",
              "    animation:\n",
              "      spin 1s steps(1) infinite;\n",
              "  }\n",
              "\n",
              "  @keyframes spin {\n",
              "    0% {\n",
              "      border-color: transparent;\n",
              "      border-bottom-color: var(--fill-color);\n",
              "      border-left-color: var(--fill-color);\n",
              "    }\n",
              "    20% {\n",
              "      border-color: transparent;\n",
              "      border-left-color: var(--fill-color);\n",
              "      border-top-color: var(--fill-color);\n",
              "    }\n",
              "    30% {\n",
              "      border-color: transparent;\n",
              "      border-left-color: var(--fill-color);\n",
              "      border-top-color: var(--fill-color);\n",
              "      border-right-color: var(--fill-color);\n",
              "    }\n",
              "    40% {\n",
              "      border-color: transparent;\n",
              "      border-right-color: var(--fill-color);\n",
              "      border-top-color: var(--fill-color);\n",
              "    }\n",
              "    60% {\n",
              "      border-color: transparent;\n",
              "      border-right-color: var(--fill-color);\n",
              "    }\n",
              "    80% {\n",
              "      border-color: transparent;\n",
              "      border-right-color: var(--fill-color);\n",
              "      border-bottom-color: var(--fill-color);\n",
              "    }\n",
              "    90% {\n",
              "      border-color: transparent;\n",
              "      border-bottom-color: var(--fill-color);\n",
              "    }\n",
              "  }\n",
              "</style>\n",
              "\n",
              "  <script>\n",
              "    async function quickchart(key) {\n",
              "      const quickchartButtonEl =\n",
              "        document.querySelector('#' + key + ' button');\n",
              "      quickchartButtonEl.disabled = true;  // To prevent multiple clicks.\n",
              "      quickchartButtonEl.classList.add('colab-df-spinner');\n",
              "      try {\n",
              "        const charts = await google.colab.kernel.invokeFunction(\n",
              "            'suggestCharts', [key], {});\n",
              "      } catch (error) {\n",
              "        console.error('Error during call to suggestCharts:', error);\n",
              "      }\n",
              "      quickchartButtonEl.classList.remove('colab-df-spinner');\n",
              "      quickchartButtonEl.classList.add('colab-df-quickchart-complete');\n",
              "    }\n",
              "    (() => {\n",
              "      let quickchartButtonEl =\n",
              "        document.querySelector('#df-a5193f00-1e7a-4776-9112-aa9417534265 button');\n",
              "      quickchartButtonEl.style.display =\n",
              "        google.colab.kernel.accessAllowed ? 'block' : 'none';\n",
              "    })();\n",
              "  </script>\n",
              "</div>\n",
              "    </div>\n",
              "  </div>\n"
            ],
            "application/vnd.google.colaboratory.intrinsic+json": {
              "type": "dataframe",
              "variable_name": "df",
              "summary": "{\n  \"name\": \"df\",\n  \"rows\": 2772,\n  \"fields\": [\n    {\n      \"column\": \"age\",\n      \"properties\": {\n        \"dtype\": \"number\",\n        \"std\": 14,\n        \"min\": 18,\n        \"max\": 64,\n        \"num_unique_values\": 47,\n        \"samples\": [\n          21,\n          45,\n          36\n        ],\n        \"semantic_type\": \"\",\n        \"description\": \"\"\n      }\n    },\n    {\n      \"column\": \"sex\",\n      \"properties\": {\n        \"dtype\": \"number\",\n        \"std\": 0,\n        \"min\": 0,\n        \"max\": 1,\n        \"num_unique_values\": 2,\n        \"samples\": [\n          0,\n          1\n        ],\n        \"semantic_type\": \"\",\n        \"description\": \"\"\n      }\n    },\n    {\n      \"column\": \"bmi\",\n      \"properties\": {\n        \"dtype\": \"number\",\n        \"std\": 6.1294486949652205,\n        \"min\": 15.96,\n        \"max\": 53.13,\n        \"num_unique_values\": 548,\n        \"samples\": [\n          23.18,\n          26.885\n        ],\n        \"semantic_type\": \"\",\n        \"description\": \"\"\n      }\n    },\n    {\n      \"column\": \"children\",\n      \"properties\": {\n        \"dtype\": \"number\",\n        \"std\": 1,\n        \"min\": 0,\n        \"max\": 5,\n        \"num_unique_values\": 6,\n        \"samples\": [\n          0,\n          1\n        ],\n        \"semantic_type\": \"\",\n        \"description\": \"\"\n      }\n    },\n    {\n      \"column\": \"smoker\",\n      \"properties\": {\n        \"dtype\": \"number\",\n        \"std\": 0,\n        \"min\": 0,\n        \"max\": 1,\n        \"num_unique_values\": 2,\n        \"samples\": [\n          0,\n          1\n        ],\n        \"semantic_type\": \"\",\n        \"description\": \"\"\n      }\n    },\n    {\n      \"column\": \"region\",\n      \"properties\": {\n        \"dtype\": \"number\",\n        \"std\": 1,\n        \"min\": 1,\n        \"max\": 4,\n        \"num_unique_values\": 4,\n        \"samples\": [\n          3,\n          1\n        ],\n        \"semantic_type\": \"\",\n        \"description\": \"\"\n      }\n    },\n    {\n      \"column\": \"charges\",\n      \"properties\": {\n        \"dtype\": \"number\",\n        \"std\": 12151.768945168045,\n        \"min\": 1121.8739,\n        \"max\": 63770.42801,\n        \"num_unique_values\": 1337,\n        \"samples\": [\n          8688.85885,\n          5708.867\n        ],\n        \"semantic_type\": \"\",\n        \"description\": \"\"\n      }\n    }\n  ]\n}"
            }
          },
          "metadata": {},
          "execution_count": 58
        }
      ]
    },
    {
      "cell_type": "code",
      "source": [
        "# Select split_ratio\n",
        "split_ratio = 0.8\n",
        "\n",
        "# Determining the training dataset size\n",
        "total_rows = df.shape[0]\n",
        "train_size = int(total_rows*split_ratio)\n",
        "\n",
        "# Split data into test and train\n",
        "train = df[0:train_size]\n",
        "test = df[train_size:]"
      ],
      "metadata": {
        "id": "PnmiSkaZDE0F"
      },
      "execution_count": 59,
      "outputs": []
    },
    {
      "cell_type": "code",
      "source": [
        "# Creating Covariate Matrix (X_train) = (age,sex,bmi,children,smoker,region) for Training Dataset\n",
        "X_train = train.iloc[:, :-1]\n",
        "print(X_train)\n",
        "\n",
        "# Converting Data Frame to a Numpy Array\n",
        "X_train = np.array(train.iloc[:, :-1])"
      ],
      "metadata": {
        "colab": {
          "base_uri": "https://localhost:8080/"
        },
        "id": "svfuocB6kT--",
        "outputId": "09c41068-ba05-4ee6-f37b-e51ed54940ed"
      },
      "execution_count": 61,
      "outputs": [
        {
          "output_type": "stream",
          "name": "stdout",
          "text": [
            "      age  sex     bmi  children  smoker  region\n",
            "0      19    1  27.900         0       1       4\n",
            "1      18    0  33.770         1       0       3\n",
            "2      28    0  33.000         3       0       3\n",
            "3      33    0  22.705         0       0       2\n",
            "4      32    0  28.880         0       0       2\n",
            "...   ...  ...     ...       ...     ...     ...\n",
            "2212   56    0  31.790         2       1       3\n",
            "2213   36    0  28.025         1       1       1\n",
            "2214   41    0  30.780         3       1       1\n",
            "2215   39    0  21.850         1       0       2\n",
            "2216   63    0  33.100         0       0       4\n",
            "\n",
            "[2217 rows x 6 columns]\n"
          ]
        }
      ]
    },
    {
      "cell_type": "code",
      "source": [
        "# Creating Response Matrix (Y_train) = (charges) for Training Dataset\n",
        "Y_train = train.iloc[:, -1]\n",
        "print(Y_train)\n",
        "\n",
        "# Reshaping 1-Dimensional array to 2-Dimensions after converting Data Frame to a Numpy Array\n",
        "Y_train = np.array(train.iloc[:, -1]).reshape(-1, 1)"
      ],
      "metadata": {
        "colab": {
          "base_uri": "https://localhost:8080/"
        },
        "id": "QCPbx5g9EhGt",
        "outputId": "4411cf2c-966e-4f39-b787-7aa2e59f7782"
      },
      "execution_count": 67,
      "outputs": [
        {
          "output_type": "stream",
          "name": "stdout",
          "text": [
            "0       16884.92400\n",
            "1        1725.55230\n",
            "2        4449.46200\n",
            "3       21984.47061\n",
            "4        3866.85520\n",
            "           ...     \n",
            "2212    43813.86610\n",
            "2213    20773.62775\n",
            "2214    39597.40720\n",
            "2215     6117.49450\n",
            "2216    13393.75600\n",
            "Name: charges, Length: 2217, dtype: float64\n"
          ]
        }
      ]
    },
    {
      "cell_type": "code",
      "source": [
        "# Creating Covariate Matrix (X_test) - (age,sex,bmi,children,smoker,region) for Testing Dataset\n",
        "X_test = test.iloc[:, :-1]\n",
        "print(X_test)\n",
        "\n",
        "# Converting Data Frame to a Numpy Array\n",
        "X_test = np.array(test.iloc[:, :-1])"
      ],
      "metadata": {
        "colab": {
          "base_uri": "https://localhost:8080/"
        },
        "id": "Z-OgjbopFKtj",
        "outputId": "c1f56c71-334b-42e1-985b-5f9a1971f16f"
      },
      "execution_count": 62,
      "outputs": [
        {
          "output_type": "stream",
          "name": "stdout",
          "text": [
            "      age  sex     bmi  children  smoker  region\n",
            "2217   36    1  25.840         0       0       2\n",
            "2218   28    1  23.845         2       0       2\n",
            "2219   58    0  34.390         0       0       2\n",
            "2220   36    0  33.820         1       0       2\n",
            "2221   42    0  35.970         2       0       3\n",
            "...   ...  ...     ...       ...     ...     ...\n",
            "2767   47    1  45.320         1       0       3\n",
            "2768   21    1  34.600         0       0       4\n",
            "2769   19    0  26.030         1       1       2\n",
            "2770   23    0  18.715         0       0       2\n",
            "2771   54    0  31.600         0       0       4\n",
            "\n",
            "[555 rows x 6 columns]\n"
          ]
        }
      ]
    },
    {
      "cell_type": "code",
      "source": [
        "# Creating Response Matrix (Y_test) = (charges) for Testing Dataset\n",
        "Y_test = test.iloc[:, -1]\n",
        "print(Y_test)\n",
        "\n",
        "# Reshaping 1-Dimensional array to 2-Dimensions after converting Data Frame to a Numpy Array\n",
        "Y_test = np.array(test.iloc[:, -1]).reshape(-1, 1)"
      ],
      "metadata": {
        "colab": {
          "base_uri": "https://localhost:8080/"
        },
        "id": "yjYv08cEFb9p",
        "outputId": "0c48b5bb-9133-4949-976f-87b42609e661"
      },
      "execution_count": 68,
      "outputs": [
        {
          "output_type": "stream",
          "name": "stdout",
          "text": [
            "2217     5266.36560\n",
            "2218     4719.73655\n",
            "2219    11743.93410\n",
            "2220     5377.45780\n",
            "2221     7160.33030\n",
            "           ...     \n",
            "2767     8569.86180\n",
            "2768     2020.17700\n",
            "2769    16450.89470\n",
            "2770    21595.38229\n",
            "2771     9850.43200\n",
            "Name: charges, Length: 555, dtype: float64\n"
          ]
        }
      ]
    },
    {
      "cell_type": "markdown",
      "source": [
        "# **FITTING A LINEAR REGRESSION MODEL TO THE ABOVE DATASET**"
      ],
      "metadata": {
        "id": "oUwXHX9TygWy"
      }
    },
    {
      "cell_type": "markdown",
      "source": [
        "Assuming a Linear Regression Model for the above Dataset, We can write the relationship between Response Varaibles (Y) and Regressor Varaibles (X) can be given as:\n",
        "\n",
        "***$$ Y = \\theta_0 X_0 + \\theta_1 X_1 + \\theta_2 X_2 + \\theta_3 X_3 + \\theta_4 X_4 + \\theta_5 X_5 + \\xi $$***\n",
        "\n",
        "where, $\\theta_i,$ i = 1,...,6 are the parameters and $\\xi$ is error (assuming it is a Guassian White Noise)"
      ],
      "metadata": {
        "id": "D_hxkhEipRDA"
      }
    },
    {
      "cell_type": "code",
      "source": [
        "# Creating a list to store the parameters estimated for each method of estimation ('OLS', 'LMS', 'LTS')\n",
        "theta_results = []\n",
        "\n",
        "# For Loop to loop through all 3 methods of estimation ('OLS', 'LMS', 'LTS')\n",
        "for method in ['OLS', 'LMS', 'LTS']:\n",
        "\n",
        "    # intializing theta_estimator matrix to shape of number of covarities\n",
        "    theta_est = np.zeros(((np.shape(X_train)[1])))\n",
        "    # Estimating the parameters theta for Training Data using Linear Regression Model for each method of estimation with Gradient Descent\n",
        "    lr = LinearRegression(method=method)\n",
        "    lr.fit(X_train, Y_train)\n",
        "    theta_est[:,] = (lr.beta.ravel())\n",
        "    # Appending the estimated parameters for each method to the list\n",
        "    theta_results.append([method, theta_est[0], theta_est[1], theta_est[2], theta_est[3], theta_est[4], theta_est[5]])\n",
        "\n",
        "# Create DataFrame for the estimated parameters (theta) for each method\n",
        "theta_df = pd.DataFrame(theta_results, columns=['Method', 'Theta0', 'Theta1', 'Theta2', 'Theta3', 'Theta4', 'Theta5'])\n",
        "\n",
        "# Print Theta table - The Table of Estimated Parameters by Each Method\n",
        "print(\"Theta Table: Estimated Parameters by Each Method\")\n",
        "print(theta_df.to_string(index=False))"
      ],
      "metadata": {
        "colab": {
          "base_uri": "https://localhost:8080/"
        },
        "id": "7RFCjQzuHc3c",
        "outputId": "ecd06af4-d416-45a0-92ff-14fc2293618e"
      },
      "execution_count": 69,
      "outputs": [
        {
          "output_type": "stream",
          "name": "stdout",
          "text": [
            "Theta Table: Estimated Parameters by Each Method\n",
            "Method         Theta0         Theta1         Theta2         Theta3         Theta4         Theta5\n",
            "   OLS -8.990922e+142 -1.051283e+141 -6.624675e+142 -2.330659e+141 -4.208529e+140 -5.354742e+141\n",
            "   LMS   3.347443e+02   2.398926e+01   8.134527e+00   2.120524e+02   4.470154e+02  -1.347535e+02\n",
            "   LTS   3.383965e+02   2.230232e+01   1.222913e+01   2.141484e+02   4.463925e+02  -1.314360e+02\n"
          ]
        }
      ]
    },
    {
      "cell_type": "markdown",
      "source": [
        "# **EVALUATING THE PERFORMANCE OF EACH METHOD BY MEAN SQUARE ERROR(MSE) ON TEST DATASET**"
      ],
      "metadata": {
        "id": "F6gN2lR338B0"
      }
    },
    {
      "cell_type": "code",
      "source": [
        "# Creating a list to store the Mean Square Errors(MSE) for each method of estimation ('OLS', 'LMS', 'LTS')\n",
        "MSE_results = []\n",
        "\n",
        "# Estimated parameters 'theta' for all 3 methods\n",
        "theta_results_dict = {item[0]: item[1:7] for item in theta_results}\n",
        "theta_OLS = theta_results_dict.get('OLS')\n",
        "theta_LMS = theta_results_dict.get('LMS')\n",
        "theta_LTS = theta_results_dict.get('LTS')\n",
        "\n",
        "# Predicting Response variables (Y_test_bar) for the Covariate Test Dataset (X_test)\n",
        "Pred_OLS = np.dot(X_test, theta_OLS).reshape(-1,1)\n",
        "Pred_LMS = np.dot(X_test, theta_LMS).reshape(-1,1)\n",
        "Pred_LTS = np.dot(X_test, theta_LTS).reshape(-1,1)\n",
        "\n",
        "# Calculating Mean Squared Error between Predicted Responce Variables (Y_test_bar) vs True Response Variables (Y_test_bar)\n",
        "N = np.shape(Y_test)[0]\n",
        "MSE_OLS = (1 / N) * np.sum(((Y_test - Pred_OLS)**2), axis = 0)\n",
        "MSE_LMS = (1 / N) * np.sum(((Y_test - Pred_LMS)**2), axis = 0)\n",
        "MSE_LTS = (1 / N) * np.sum(((Y_test - Pred_LTS)**2), axis = 0)\n",
        "\n",
        "# Appending the calculated MSE values for each method to the list\n",
        "MSE_results.append([MSE_OLS[0], MSE_LMS[0], MSE_LTS[0]])\n",
        "\n",
        "# Create DataFrame for the calculated MSE values for each method\n",
        "MSE_df = pd.DataFrame(MSE_results, columns=['MSE_OLS', 'MSE_LMS', 'MSE_LTS'])\n",
        "\n",
        "# Print MSE table - The Table of calculated MSE values for each method\n",
        "print(\"MSE Table: Calculated Mean Square Error   by Each Method\")\n",
        "print(MSE_df.to_string(index=False))"
      ],
      "metadata": {
        "id": "pSLCDa3Gd6xD",
        "colab": {
          "base_uri": "https://localhost:8080/"
        },
        "outputId": "4a4d717f-6d60-49f8-9bbe-48058245a7f2"
      },
      "execution_count": 57,
      "outputs": [
        {
          "output_type": "stream",
          "name": "stdout",
          "text": [
            "MSE Table:\n",
            "      MSE_OLS      MSE_LMS      MSE_LTS\n",
            "3.182379e+289 1.368280e+08 1.367819e+08\n"
          ]
        }
      ]
    },
    {
      "cell_type": "markdown",
      "source": [
        "# **ALTERNATE FUNCTION TO USE FOR FINDING PEAKS**"
      ],
      "metadata": {
        "id": "xJ-nIfvZzCj1"
      }
    },
    {
      "cell_type": "markdown",
      "source": [
        "# **FREQUENCY(FIRING RATE) VS INPUT CURRENT GRAPH**"
      ],
      "metadata": {
        "id": "Kex-5on29HXl"
      }
    },
    {
      "cell_type": "code",
      "source": [],
      "metadata": {
        "id": "bhJqJnYOd8Tn"
      },
      "execution_count": 10,
      "outputs": []
    }
  ]
}